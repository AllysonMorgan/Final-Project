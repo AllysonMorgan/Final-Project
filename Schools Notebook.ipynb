{
 "cells": [
  {
   "cell_type": "markdown",
   "id": "7e12d7f1-2378-43cb-9468-d4673e28114e",
   "metadata": {},
   "source": [
    "## Public Schools per Zip Code"
   ]
  },
  {
   "cell_type": "markdown",
   "id": "88d7666b-9f03-4d0d-a2e5-cbf4bd2d94e8",
   "metadata": {},
   "source": [
    "This notebook analyzes the schools dataset and counts how many schools each zipcode has.\n",
    "\n",
    "First we have to import pandas and create our dataframe."
   ]
  },
  {
   "cell_type": "code",
   "execution_count": 9,
   "id": "2e580d85-94e6-4187-bc24-469576a97cb5",
   "metadata": {},
   "outputs": [],
   "source": [
    "import pandas as pd\n",
    "import matplotlib.pyplot as plt\n",
    "\n",
    "schools = pd.read_csv(\"schools.tsv\", sep=\"\\t\")"
   ]
  },
  {
   "cell_type": "markdown",
   "id": "34a873fa-214b-4b7c-9864-3415db1d110f",
   "metadata": {},
   "source": [
    "Then we have to count how many times each zipcode appears, which gives us the number of public schools each zipcode has."
   ]
  },
  {
   "cell_type": "code",
   "execution_count": 4,
   "id": "f209f369-212a-4db9-bd3c-65a120be29f1",
   "metadata": {},
   "outputs": [
    {
     "name": "stdout",
     "output_type": "stream",
     "text": [
      "zip\n",
      "15212    15\n",
      "15206    10\n",
      "15210     9\n",
      "15226     7\n",
      "15217     6\n",
      "15219     6\n",
      "15216     6\n",
      "15208     6\n",
      "15233     5\n",
      "15201     5\n",
      "15213     4\n",
      "15207     4\n",
      "15204     3\n",
      "15205     3\n",
      "15220     2\n",
      "15214     2\n",
      "15222     2\n",
      "15203     2\n",
      "15224     2\n",
      "15221     1\n",
      "15232     1\n",
      "15211     1\n",
      "Name: count, dtype: int64\n"
     ]
    }
   ],
   "source": [
    "zip_counts = schools['zip'].value_counts()\n",
    "print(zip_counts)"
   ]
  },
  {
   "cell_type": "markdown",
   "id": "2ce38502-09f7-459d-8153-34e9c60417ed",
   "metadata": {},
   "source": [
    "Then we make a bar graph to visually display this information."
   ]
  },
  {
   "cell_type": "code",
   "execution_count": 8,
   "id": "9ca50437-762f-42a6-a65f-fd2d2e2bc0b3",
   "metadata": {},
   "outputs": [
    {
     "data": {
      "text/plain": [
       "<Axes: xlabel='zip'>"
      ]
     },
     "execution_count": 8,
     "metadata": {},
     "output_type": "execute_result"
    },
    {
     "data": {
      "image/png": "[encoded data removed]",
      "text/plain": [
       "<Figure size 640x480 with 1 Axes>"
      ]
     },
     "metadata": {},
     "output_type": "display_data"
    }
   ],
   "source": [
    "zip_counts.plot(kind='bar', color='cornflowerblue', edgecolor='black')"
   ]
  },
  {
   "cell_type": "markdown",
   "id": "51ed91a2-19f4-42f8-9048-1b43f9e1d05c",
   "metadata": {},
   "source": [
    "## Conclusion:\n",
    "The optimal way to choose the \"best\" neighborhood in Pittsburgh for us was to go by quantity of each variable in each zip code so that people have a number of options to choose from.\n",
    "By those standards, our \"best\" neighborhood based on number of public schools would be:\n",
    "1) 15212 -> Brighton Heights\n",
    "2) 15206 -> East Liberty\n",
    "3) 15210 -> Mount Oliver"
   ]
  },
  {
   "cell_type": "code",
   "execution_count": null,
   "id": "66ee54ae-fb21-47d4-9be7-e91247fa4551",
   "metadata": {},
   "outputs": [],
   "source": []
  }
 ],
 "metadata": {
  "kernelspec": {
   "display_name": "Python 3 (ipykernel)",
   "language": "python",
   "name": "python3"
  },
  "language_info": {
   "codemirror_mode": {
    "name": "ipython",
    "version": 3
   },
   "file_extension": ".py",
   "mimetype": "text/x-python",
   "name": "python",
   "nbconvert_exporter": "python",
   "pygments_lexer": "ipython3",
   "version": "3.12.4"
  }
 },
 "nbformat": 4,
 "nbformat_minor": 5
}
