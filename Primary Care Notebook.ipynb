{
 "cells": [
  {
   "cell_type": "markdown",
   "id": "887c6fe7-0b77-4272-8b2f-52fad4818bed",
   "metadata": {},
   "source": [
    "## Primary Care Locations per Zip Code"
   ]
  },
  {
   "cell_type": "markdown",
   "id": "e4f91257-8e5f-4d92-a1df-5adc78df6d9c",
   "metadata": {},
   "source": [
    "This notebook analyzes the primary care data set and counts how many primary care practices each zipcode has.\n",
    "\n",
    "First, we import pandas and create our dataframe."
   ]
  },
  {
   "cell_type": "code",
   "execution_count": 8,
   "id": "59d0d9b8-7614-44d9-8e74-31a8c6fb7b81",
   "metadata": {},
   "outputs": [
    {
     "data": {
      "text/html": [
       "<div>\n",
       "<style scoped>\n",
       "    .dataframe tbody tr th:only-of-type {\n",
       "        vertical-align: middle;\n",
       "    }\n",
       "\n",
       "    .dataframe tbody tr th {\n",
       "        vertical-align: top;\n",
       "    }\n",
       "\n",
       "    .dataframe thead th {\n",
       "        text-align: right;\n",
       "    }\n",
       "</style>\n",
       "<table border=\"1\" class=\"dataframe\">\n",
       "  <thead>\n",
       "    <tr style=\"text-align: right;\">\n",
       "      <th></th>\n",
       "      <th>_id</th>\n",
       "      <th>GROUP_NAME</th>\n",
       "      <th>PRACTICE_ADDR_1</th>\n",
       "      <th>PRACTICE_ADDR_2</th>\n",
       "      <th>PRACTICE_CITY</th>\n",
       "      <th>PRACTICE_STATE</th>\n",
       "      <th>PRACTICE_ZIP</th>\n",
       "      <th>Latitude</th>\n",
       "      <th>Longitude</th>\n",
       "    </tr>\n",
       "  </thead>\n",
       "  <tbody>\n",
       "    <tr>\n",
       "      <th>0</th>\n",
       "      <td>1</td>\n",
       "      <td>Picciotti, Isabella M MD</td>\n",
       "      <td>1 Allegheny Square</td>\n",
       "      <td>NaN</td>\n",
       "      <td>Pittsburgh</td>\n",
       "      <td>PA</td>\n",
       "      <td>15212</td>\n",
       "      <td>40.451948</td>\n",
       "      <td>-80.004895</td>\n",
       "    </tr>\n",
       "    <tr>\n",
       "      <th>1</th>\n",
       "      <td>2</td>\n",
       "      <td>UPMC Emergency Medicine Inc</td>\n",
       "      <td>1 Childrens Hospital Drive</td>\n",
       "      <td>4401 Penn Avenue</td>\n",
       "      <td>Pittsburgh</td>\n",
       "      <td>PA</td>\n",
       "      <td>15224</td>\n",
       "      <td>40.467315</td>\n",
       "      <td>-79.953590</td>\n",
       "    </tr>\n",
       "    <tr>\n",
       "      <th>2</th>\n",
       "      <td>3</td>\n",
       "      <td>Hoover Medical Associates PC</td>\n",
       "      <td>100 Delafield Rd</td>\n",
       "      <td>Suite 312</td>\n",
       "      <td>Pittsburgh</td>\n",
       "      <td>PA</td>\n",
       "      <td>15215</td>\n",
       "      <td>40.490244</td>\n",
       "      <td>-79.895719</td>\n",
       "    </tr>\n",
       "    <tr>\n",
       "      <th>3</th>\n",
       "      <td>4</td>\n",
       "      <td>Partners in Nephrology and Endocrinology</td>\n",
       "      <td>100 Delafield Road</td>\n",
       "      <td>100 MAB Suite 212</td>\n",
       "      <td>Pittsburgh</td>\n",
       "      <td>PA</td>\n",
       "      <td>15215</td>\n",
       "      <td>40.506845</td>\n",
       "      <td>-79.908076</td>\n",
       "    </tr>\n",
       "    <tr>\n",
       "      <th>4</th>\n",
       "      <td>5</td>\n",
       "      <td>Bahl and Bahl Med Assoc</td>\n",
       "      <td>100 Delafield Road, Ste 103</td>\n",
       "      <td>NaN</td>\n",
       "      <td>Pittsburgh</td>\n",
       "      <td>PA</td>\n",
       "      <td>15215</td>\n",
       "      <td>40.490244</td>\n",
       "      <td>-79.895719</td>\n",
       "    </tr>\n",
       "  </tbody>\n",
       "</table>\n",
       "</div>"
      ],
      "text/plain": [
       "   _id                                GROUP_NAME              PRACTICE_ADDR_1  \\\n",
       "0    1                  Picciotti, Isabella M MD           1 Allegheny Square   \n",
       "1    2               UPMC Emergency Medicine Inc   1 Childrens Hospital Drive   \n",
       "2    3              Hoover Medical Associates PC             100 Delafield Rd   \n",
       "3    4  Partners in Nephrology and Endocrinology           100 Delafield Road   \n",
       "4    5                   Bahl and Bahl Med Assoc  100 Delafield Road, Ste 103   \n",
       "\n",
       "     PRACTICE_ADDR_2 PRACTICE_CITY PRACTICE_STATE  PRACTICE_ZIP   Latitude  \\\n",
       "0                NaN    Pittsburgh             PA         15212  40.451948   \n",
       "1   4401 Penn Avenue    Pittsburgh             PA         15224  40.467315   \n",
       "2          Suite 312    Pittsburgh             PA         15215  40.490244   \n",
       "3  100 MAB Suite 212    Pittsburgh             PA         15215  40.506845   \n",
       "4                NaN    Pittsburgh             PA         15215  40.490244   \n",
       "\n",
       "   Longitude  \n",
       "0 -80.004895  \n",
       "1 -79.953590  \n",
       "2 -79.895719  \n",
       "3 -79.908076  \n",
       "4 -79.895719  "
      ]
     },
     "execution_count": 8,
     "metadata": {},
     "output_type": "execute_result"
    }
   ],
   "source": [
    "import pandas as pd\n",
    "import matplotlib.pyplot as plt\n",
    "\n",
    "primaryCare = pd.read_csv(\"primaryCare.tsv\", sep=\"\\t\")\n",
    "primaryCare.head()"
   ]
  },
  {
   "cell_type": "markdown",
   "id": "4a42aa1d-5466-44e6-9201-466caa09ea49",
   "metadata": {},
   "source": [
    "Since this dataset has more zipcodes, we have to filter out the ones that the smallest dataset doesn't contain. Then we count how many times each zipcode appears to get how many primary care locations each zipcode has."
   ]
  },
  {
   "cell_type": "code",
   "execution_count": 9,
   "id": "71471a0c-532f-429c-ae83-f1412374fff4",
   "metadata": {},
   "outputs": [
    {
     "name": "stdout",
     "output_type": "stream",
     "text": [
      "15212: 12\n",
      "15210: 6\n",
      "15206: 15\n",
      "15226: 5\n",
      "15216: 7\n",
      "15217: 15\n",
      "15219: 10\n",
      "15208: 3\n",
      "15201: 4\n",
      "15233: 2\n",
      "15213: 47\n",
      "15207: 4\n",
      "15205: 11\n",
      "15204: 0\n",
      "15224: 18\n",
      "15214: 1\n",
      "15222: 13\n",
      "15220: 12\n",
      "15203: 14\n",
      "15221: 16\n",
      "15232: 11\n",
      "15211: 4\n"
     ]
    }
   ],
   "source": [
    "zip_codes_to_filter = [15212, 15210, 15206, 15226, 15216, 15217, 15219, 15208, 15201, 15233, 15213, 15207, 15205, 15204, 15224, 15214, 15222, 15220, 15203, 15221, 15232, 15211]\n",
    "\n",
    "filtered_primaryCare = primaryCare[primaryCare['PRACTICE_ZIP'].isin(zip_codes_to_filter)]\n",
    "\n",
    "zip_code_counts = filtered_primaryCare['PRACTICE_ZIP'].value_counts()\n",
    "\n",
    "for zip_code in zip_codes_to_filter:\n",
    "    count = zip_code_counts.get(zip_code, 0) \n",
    "    print(str(zip_code)+\": \"+str(count))\n"
   ]
  },
  {
   "cell_type": "markdown",
   "id": "d3dde544-1773-4464-ae36-bb2e4bf1a3e4",
   "metadata": {},
   "source": [
    "Then we create a bar graph to display this information."
   ]
  },
  {
   "cell_type": "code",
   "execution_count": 7,
   "id": "ab15a6ed-9023-4277-bc32-20465bbec921",
   "metadata": {},
   "outputs": [
    {
     "data": {
      "text/plain": [
       "<Axes: xlabel='PRACTICE_ZIP'>"
      ]
     },
     "execution_count": 7,
     "metadata": {},
     "output_type": "execute_result"
    },
    {
     "data": {
      "image/png": "[encoded data removed]",
      "text/plain": [
       "<Figure size 640x480 with 1 Axes>"
      ]
     },
     "metadata": {},
     "output_type": "display_data"
    }
   ],
   "source": [
    "zip_code_counts.plot(kind='bar', color='mediumpurple', edgecolor='black')"
   ]
  },
  {
   "cell_type": "markdown",
   "id": "5cfe0414-869a-4f8b-888d-25813c10075f",
   "metadata": {},
   "source": [
    "## Conclusion:\n",
    "The optimal way to choose the \"best\" neighborhood in Pittsburgh for us was to go by quantity of each variable in each zip code so that people have a number of options to choose from.\n",
    "\n",
    "By those standrads, our \"best\" neighborhood based on number of primary care would be:\n",
    " 1) 15213 -> Oakland\n",
    " 2) 15224 -> Bloomfield\n",
    " 3) 15221 -> Wilkinsburg"
   ]
  },
  {
   "cell_type": "code",
   "execution_count": null,
   "id": "b4171d20-1add-444c-aa39-bcf01be44719",
   "metadata": {},
   "outputs": [],
   "source": []
  }
 ],
 "metadata": {
  "kernelspec": {
   "display_name": "Python 3 (ipykernel)",
   "language": "python",
   "name": "python3"
  },
  "language_info": {
   "codemirror_mode": {
    "name": "ipython",
    "version": 3
   },
   "file_extension": ".py",
   "mimetype": "text/x-python",
   "name": "python",
   "nbconvert_exporter": "python",
   "pygments_lexer": "ipython3",
   "version": "3.12.4"
  }
 },
 "nbformat": 4,
 "nbformat_minor": 5
}
